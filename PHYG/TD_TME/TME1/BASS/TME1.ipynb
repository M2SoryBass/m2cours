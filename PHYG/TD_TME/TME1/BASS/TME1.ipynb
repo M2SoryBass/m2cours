{
 "cells": [
  {
   "cell_type": "code",
   "execution_count": 1,
   "metadata": {},
   "outputs": [],
   "source": [
    "import subprocess\n",
    "#Exercise 1: UPGMA"
   ]
  },
  {
   "cell_type": "code",
   "execution_count": null,
   "metadata": {},
   "outputs": [],
   "source": [
    "##Expliquez brièvement comment fonctionne l'algorithme UPGMA. \n",
    "\n"
   ]
  },
  {
   "cell_type": "code",
   "execution_count": null,
   "metadata": {},
   "outputs": [],
   "source": [
    "#Ensuite, prenez la matrice de distance ci-dessous\n",
    "##et construire un arbre en utilisant l'algorithme: décrire chaque étape et, à la fin, dessiner le\n",
    "##arbre résultant.\n",
    "\n",
    "#http://evolution.gs.washington.edu/phylip/doc/neighbor.html\n",
    "Q1.dat fichier test  et resultat dans le fichier outfile"
   ]
  },
  {
   "cell_type": "code",
   "execution_count": null,
   "metadata": {},
   "outputs": [],
   "source": [
    "#Exercise 2: PAH\n",
    "#phenylalanine-4-hydroxylase enzyme"
   ]
  },
  {
   "cell_type": "code",
   "execution_count": null,
   "metadata": {},
   "outputs": [],
   "source": [
    "\"\"\"1- Download the human, rat (Rattus norvegicus), mouse (Mus musculus), bovine\n",
    "(Bos taurus) and Caenorhabditis elegans sequences of phenylalanine-4-hydroxylase\n",
    "from UniProt (search for “phenylalanine-4-hydroxylase” in www.uniprot.org and\n",
    "consider the first one who belongs to SwissProt). Sequences should be downloaded\n",
    "in FASTA format.\n",
    "Align them using Clustal (you can simply use the web service at http://www.ebi.\n",
    "ac.uk/Tools/msa/clustalo/). Save it in PHYLIP format and include the content\n",
    "of the file in your report.\"\"\"\n",
    "\n",
    "https://www.uniprot.org/uniprot/P90925\n"
   ]
  }
 ],
 "metadata": {
  "kernelspec": {
   "display_name": "Python 2",
   "language": "python",
   "name": "python2"
  },
  "language_info": {
   "codemirror_mode": {
    "name": "ipython",
    "version": 2
   },
   "file_extension": ".py",
   "mimetype": "text/x-python",
   "name": "python",
   "nbconvert_exporter": "python",
   "pygments_lexer": "ipython2",
   "version": "2.7.12"
  }
 },
 "nbformat": 4,
 "nbformat_minor": 2
}
